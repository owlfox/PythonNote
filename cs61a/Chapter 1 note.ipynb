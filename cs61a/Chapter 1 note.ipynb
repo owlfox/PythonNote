{
 "cells": [
  {
   "cell_type": "markdown",
   "metadata": {},
   "source": [
    "## Recursive funciton\n",
    "[readings](http://composingprograms.com/pages/17-recursive-functions.html)\n",
    "\n",
    "\n",
    "一個數可被9整除，如果他的每個數字總和可被9整除。信用卡的checksum是用類似機制\n",
    "**Luhn Algorithm**\n"
   ]
  },
  {
   "cell_type": "code",
   "execution_count": 24,
   "metadata": {
    "collapsed": false
   },
   "outputs": [
    {
     "name": "stdout",
     "output_type": "stream",
     "text": [
      "80\n",
      "對了！\n"
     ]
    }
   ],
   "source": [
    "#example:\n",
    "\n",
    "def split(n):\n",
    "    return n//10, n%10\n",
    "def sum_digits(n):\n",
    "    #base case (without recursive call)\n",
    "    if n<10:\n",
    "        return n\n",
    "    #recursive calls\n",
    "    else:\n",
    "        all_but_last, last = split(n)\n",
    "        return sum_digits(all_but_last) + last\n",
    "\n",
    "def luhn_sum_double(n):\n",
    "    all_but_last, last =split(n)\n",
    "    luhn_digit = sum_digits(last*2)\n",
    "    if n <10:\n",
    "        return luhn_digit\n",
    "    else:\n",
    "        return luhn_sum(all_but_last) + luhn_digit\n",
    "    \n",
    "def luhn_sum(n):\n",
    "    if n <10:\n",
    "        return n\n",
    "    else:\n",
    "        all_but_last, last = split(n)\n",
    "        return luhn_sum_double(all_but_last) + last\n",
    "        \n",
    "\n",
    "sum =  luhn_sum(4695878013754404)\n",
    "print sum\n",
    "if sum%10 is 0:\n",
    "    print \"對了！\""
   ]
  },
  {
   "cell_type": "markdown",
   "metadata": {},
   "source": [
    "## Tree-recursive\n",
    "這是個很有用的技巧，但我們在處理count partition時可以用很簡潔的程式碼，完成，見下："
   ]
  },
  {
   "cell_type": "code",
   "execution_count": 32,
   "metadata": {
    "collapsed": false
   },
   "outputs": [
    {
     "data": {
      "text/plain": [
       "5"
      ]
     },
     "execution_count": 32,
     "metadata": {},
     "output_type": "execute_result"
    }
   ],
   "source": [
    "def count_partitions(n, m):\n",
    "        \"\"\"Count the ways to partition n using parts up to m.\"\"\"\n",
    "        if n == 0:\n",
    "            return 1\n",
    "        elif n < 0:\n",
    "            return 0\n",
    "        elif m == 0:\n",
    "            return 0\n",
    "        else:\n",
    "            with_m = count_partitions(n-m, m)\n",
    "            without_m = count_partitions(n, m-1)\n",
    "            return with_m + without_m\n",
    "count_partitions(5,3)"
   ]
  },
  {
   "cell_type": "markdown",
   "metadata": {},
   "source": [
    "但是有個壞處是運行時間會拉很長，fibonacci 如果用這個方式做，時間會爆掉。"
   ]
  }
 ],
 "metadata": {
  "kernelspec": {
   "display_name": "Python 2",
   "language": "python",
   "name": "python2"
  },
  "language_info": {
   "codemirror_mode": {
    "name": "ipython",
    "version": 2
   },
   "file_extension": ".py",
   "mimetype": "text/x-python",
   "name": "python",
   "nbconvert_exporter": "python",
   "pygments_lexer": "ipython2",
   "version": "2.7.10"
  }
 },
 "nbformat": 4,
 "nbformat_minor": 0
}
