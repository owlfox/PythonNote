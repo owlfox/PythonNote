{
 "cells": [
  {
   "cell_type": "code",
   "execution_count": 4,
   "metadata": {
    "collapsed": false
   },
   "outputs": [
    {
     "name": "stdout",
     "output_type": "stream",
     "text": [
      "<type 'float'>\n",
      "<type 'complex'>\n"
     ]
    }
   ],
   "source": [
    "print type(1.5)\n",
    "print type(1+2j)\n"
   ]
  },
  {
   "cell_type": "code",
   "execution_count": null,
   "metadata": {
    "collapsed": true
   },
   "outputs": [],
   "source": [
    "http://composingprograms.com/pages/21-introduction.html\n",
    "    "
   ]
  },
  {
   "cell_type": "markdown",
   "metadata": {},
   "source": [
    "從[2.2課文](http://composingprograms.com/pages/22-data-abstraction.html)開始，我們要探討的是data abstraction, 抽象化(abstraction)是一個重要的技巧，我也不太懂重要在哪裡，讓我們看看大神如何用有理數的例子帶我們一窺門路吧！"
   ]
  },
  {
   "cell_type": "code",
   "execution_count": 4,
   "metadata": {
    "collapsed": false
   },
   "outputs": [
    {
     "name": "stdout",
     "output_type": "stream",
     "text": [
      "<type 'float'>\n",
      "<type 'complex'>\n"
     ]
    }
   ],
   "source": [
    "print type(1.5)\n",
    "print type(1+2j)\n"
   ]
  },
  {
   "cell_type": "markdown",
   "metadata": {},
   "source": []
  },
  {
   "cell_type": "markdown",
   "metadata": {},
   "source": [
    "## 2.3 Sequences\n",
    "Sequence是最基礎的data type,\n",
    "\n",
    "for是設計用來處理sequence的statement之一"
   ]
  },
  {
   "cell_type": "code",
   "execution_count": 8,
   "metadata": {
    "collapsed": false
   },
   "outputs": [],
   "source": [
    "def count(s, value):\n",
    "    \"\"\"count the value of times that value occurs\n",
    "    \n",
    "    >>> count([1,2,3,4,32,21,1],1)\n",
    "    2\n",
    "    \n",
    "    \"\"\"\n",
    "    total, index = 0,0\n",
    "    while index < len(s):\n",
    "        element = s[index]\n",
    "        if element == value:\n",
    "            total+=1\n",
    "        index += 1\n",
    "    return total\n"
   ]
  },
  {
   "cell_type": "code",
   "execution_count": 9,
   "metadata": {
    "collapsed": false
   },
   "outputs": [
    {
     "data": {
      "text/plain": [
       "2"
      ]
     },
     "execution_count": 9,
     "metadata": {},
     "output_type": "execute_result"
    }
   ],
   "source": [
    "#with for, we can do this!\n",
    "#這個技巧叫做sequence unpacking\n",
    "def count(s, value):\n",
    "    \"\"\"count the value of times that value occurs\n",
    "    \n",
    "    >>> count([1,2,3,4,32,21,1],1)\n",
    "    2\n",
    "    \n",
    "    \"\"\"\n",
    "    total=0\n",
    "    for element in s:\n",
    "        if element == value:\n",
    "            total+=1\n",
    "    return total\n",
    "count([1,2,3,4,32,21,1],1)\n"
   ]
  },
  {
   "cell_type": "markdown",
   "metadata": {},
   "source": [
    " 或是我們可用range, range is a \"range\", not a list\n",
    "**Ranges**. A range is another built-in type of sequence in Python, which represents a range of integers. Ranges are created with range, which takes two integer arguments: the first number and one beyond the last number in the desired range."
   ]
  },
  {
   "cell_type": "code",
   "execution_count": 13,
   "metadata": {
    "collapsed": false
   },
   "outputs": [
    {
     "data": {
      "text/plain": [
       "45"
      ]
     },
     "execution_count": 13,
     "metadata": {},
     "output_type": "execute_result"
    }
   ],
   "source": [
    "list(range(2,7))\n",
    "\n",
    "def sum_below(n):\n",
    "    total = 0\n",
    "    for i in range(n):\n",
    "        total +=i\n",
    "    return total\n",
    "sum_below(10)"
   ]
  },
  {
   "cell_type": "code",
   "execution_count": 12,
   "metadata": {
    "collapsed": false
   },
   "outputs": [
    {
     "name": "stdout",
     "output_type": "stream",
     "text": [
      "Go Michael = =!\n",
      "Go Michael = =!\n",
      "Go Michael = =!\n"
     ]
    }
   ],
   "source": [
    "def cheer():\n",
    "    #但我們沒拿range裡面東西辦事的時候用_, 我們bucare, 以表示清白XD\n",
    "    for _ in range(3):\n",
    "        print(\"Go Michael = =!\")\n",
    "cheer()"
   ]
  },
  {
   "cell_type": "markdown",
   "metadata": {},
   "source": [
    "**List Comprehensions**. Many sequence processing operations can be expressed by evaluating a fixed expression for each element in a sequence and collecting the resulting values in a result sequence. In Python, a list comprehension is an expression that performs such a computation."
   ]
  },
  {
   "cell_type": "code",
   "execution_count": 14,
   "metadata": {
    "collapsed": false
   },
   "outputs": [
    {
     "data": {
      "text/plain": [
       "[2, 4, 6, 8, 10]"
      ]
     },
     "execution_count": 14,
     "metadata": {},
     "output_type": "execute_result"
    }
   ],
   "source": [
    "odds = [1,3,5,7,9]\n",
    "[x+1 for x in odds]"
   ]
  },
  {
   "cell_type": "markdown",
   "metadata": {},
   "source": [
    "# Strings\n",
    "1. strings are sequence! len, element selection 可用！\n",
    "2. +, * 也OK\n",
    "3. in 也合用（回傳部份string 是否存在於另一段string中）\n",
    "“”“\n",
    "可以用來存長長的string\n",
    "分行也OK\\n注意C style的backslash n for newline is also working here!\n",
    "”“”\n",
    "* 另外str() 是string 的constructor 裡面可以放numeral, lists, 主要會跑出人看得懂的string\n",
    "\n",
    "# Dictoinaries\n",
    "Dictonary 沒有順序, "
   ]
  },
  {
   "cell_type": "code",
   "execution_count": 15,
   "metadata": {
    "collapsed": false
   },
   "outputs": [
    {
     "data": {
      "text/plain": [
       "{'I': 1, 'V': 5, 'X': 10}"
      ]
     },
     "execution_count": 15,
     "metadata": {},
     "output_type": "execute_result"
    }
   ],
   "source": [
    "{'I':1, 'V':5, 'X':10}\n"
   ]
  },
  {
   "cell_type": "markdown",
   "metadata": {},
   "source": [
    "# 2.3.6   Trees\n",
    "* Closure property"
   ]
  },
  {
   "cell_type": "markdown",
   "metadata": {},
   "source": [
    "## Ref\n",
    "1. [Python3 data types](http://getpython3.com/diveintopython3/native-datatypes.html)\n",
    "2. [python3 string type](http://getpython3.com/diveintopython3/strings.html)"
   ]
  },
  {
   "cell_type": "code",
   "execution_count": null,
   "metadata": {
    "collapsed": true
   },
   "outputs": [],
   "source": []
  }
 ],
 "metadata": {
  "kernelspec": {
   "display_name": "Python 2",
   "language": "python",
   "name": "python2"
  },
  "language_info": {
   "codemirror_mode": {
    "name": "ipython",
    "version": 2
   },
   "file_extension": ".py",
   "mimetype": "text/x-python",
   "name": "python",
   "nbconvert_exporter": "python",
   "pygments_lexer": "ipython2",
   "version": "2.7.11"
  }
 },
 "nbformat": 4,
 "nbformat_minor": 0
}
