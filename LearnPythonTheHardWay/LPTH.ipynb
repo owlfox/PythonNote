{
 "cells": [
  {
   "cell_type": "code",
   "execution_count": 1,
   "metadata": {
    "collapsed": false
   },
   "outputs": [
    {
     "name": "stdout",
     "output_type": "stream",
     "text": [
      "I am 6'2\" tall.\n",
      "I am 6'2\" tall.\n"
     ]
    }
   ],
   "source": [
    "print \"I am 6'2\\\" tall.\"  # escape double-quote inside string\n",
    "print 'I am 6\\'2\" tall.'  # escape single-quote inside string"
   ]
  },
  {
   "cell_type": "markdown",
   "metadata": {},
   "source": [
    "# Ref\n",
    "1. [Book site](http://learnpythonthehardway.org/book/)"
   ]
  }
 ],
 "metadata": {
  "kernelspec": {
   "display_name": "Python 2",
   "language": "python",
   "name": "python2"
  },
  "language_info": {
   "codemirror_mode": {
    "name": "ipython",
    "version": 2
   },
   "file_extension": ".py",
   "mimetype": "text/x-python",
   "name": "python",
   "nbconvert_exporter": "python",
   "pygments_lexer": "ipython2",
   "version": "2.7.11"
  }
 },
 "nbformat": 4,
 "nbformat_minor": 0
}
