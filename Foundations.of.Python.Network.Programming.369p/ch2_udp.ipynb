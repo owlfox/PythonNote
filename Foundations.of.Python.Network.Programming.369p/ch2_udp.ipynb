{
 "cells": [
  {
   "cell_type": "code",
   "execution_count": 1,
   "metadata": {
    "collapsed": false
   },
   "outputs": [
    {
     "data": {
      "text/plain": [
       "53"
      ]
     },
     "execution_count": 1,
     "metadata": {},
     "output_type": "execute_result"
    }
   ],
   "source": [
    "import socket\n",
    "socket.getservbyname('domain')"
   ]
  },
  {
   "cell_type": "code",
   "execution_count": null,
   "metadata": {
    "collapsed": true
   },
   "outputs": [],
   "source": []
  },
  {
   "cell_type": "code",
   "execution_count": 2,
   "metadata": {
    "collapsed": true
   },
   "outputs": [],
   "source": [
    "import argparse, socket\n",
    "from datetime import datetime\n",
    "MAX_BYTES = 65535\n",
    "def server(port):\n",
    "    sock = socket.socket(socket.AF_INET, socket.SOCK_DGRAM)\n",
    "    sock.bind(('127.0.0.1', port))\n",
    "    print('Listening at {}'.format(sock.getsockname()))\n",
    "    while True:\n",
    "        data, address = sock.recvfrom(MAX_BYTES)\n",
    "        text = data.decode('ascii')\n",
    "        print('The client at {} says {!r}'.format(address, text))\n",
    "        text = 'Your data was {} bytes long'.format(len(data))\n",
    "        data = text.encode('ascii')\n",
    "        sock.sendto(data, address)\n",
    "def client(port):\n",
    "    sock = socket.socket(socket.AF_INET, socket.SOCK_DGRAM)\n",
    "    text = 'The time is {}'.format(datetime.now())\n",
    "    data = text.encode('ascii')\n",
    "    sock.sendto(data, ('127.0.0.1', port))\n",
    "    print('The OS assigned me the address {}'.format(sock.getsockname()))\n",
    "    data, address = sock.recvfrom(MAX_BYTES)  # Danger!\n",
    "    text = data.decode('ascii')\n",
    "    print('The server {} replied {!r}'.format(address, text))"
   ]
  },
  {
   "cell_type": "code",
   "execution_count": null,
   "metadata": {
    "collapsed": false
   },
   "outputs": [],
   "source": [
    "#if __name__ == '__main__':\n",
    "#choices = {'client': client, 'server': server}\n",
    "#parser = argparse.ArgumentParser(description='Send and receive UDP locally')\n",
    "#parser.add_argument('role', choices=choices, help='which role to play')\n",
    "#parser.add_argument('-p', metavar='PORT', type=int, default=1060,\n",
    "#                    help='UDP port (default 1060)')\n",
    "#args = parser.parse_args()\n",
    "#function = choices[args.role]\n",
    "#function(args.p)\n",
    "server(1060)"
   ]
  },
  {
   "cell_type": "code",
   "execution_count": null,
   "metadata": {
    "collapsed": true
   },
   "outputs": [],
   "source": [
    "client(1060)"
   ]
  },
  {
   "cell_type": "code",
   "execution_count": null,
   "metadata": {
    "collapsed": true
   },
   "outputs": [],
   "source": [
    "print(__PATH__)"
   ]
  },
  {
   "cell_type": "code",
   "execution_count": null,
   "metadata": {
    "collapsed": true
   },
   "outputs": [],
   "source": []
  }
 ],
 "metadata": {
  "kernelspec": {
   "display_name": "Python 3",
   "language": "python",
   "name": "python3"
  },
  "language_info": {
   "codemirror_mode": {
    "name": "ipython",
    "version": 3
   },
   "file_extension": ".py",
   "mimetype": "text/x-python",
   "name": "python",
   "nbconvert_exporter": "python",
   "pygments_lexer": "ipython3",
   "version": "3.5.1"
  }
 },
 "nbformat": 4,
 "nbformat_minor": 0
}
