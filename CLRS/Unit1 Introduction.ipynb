{
 "cells": [
  {
   "cell_type": "markdown",
   "metadata": {},
   "source": [
    "# 演算法筆記\n",
    "###範例：Peak finding\n",
    "### Unit2\n",
    "1. RAM(Random access machine): \n",
    "    Random access memory, modeled by big array...\n",
    "2. Pointer machine\n",
    "\n",
    "\n",
    "### Document distance"
   ]
  },
  {
   "cell_type": "markdown",
   "metadata": {},
   "source": [
    "## 1. Algorithmic thinking, peak finding\n",
    "\n",
    "### 讀書筆記\n",
    "範圍1, 3, D.1\n",
    "## Chapter1 The role of algorithms in computing\n",
    "1. 何為演算法？\n",
    "2. 為什麼要研讀這門學問？\n",
    "3. 演算法跟其他電腦運算相關技術的關係？\n",
    "### 1.1 \n",
    "* 演算法(algorithm)為 well-defined computational procedure, 有input, output\n",
    "    例如一個排序sorting的演算法，有一串數字輸入，跟數字輸出。可以用英文，程式，硬體設計，任何有詳述計算流程的speciation來呈現。\n",
    "* instance, 一個需要算出結果的實例\n",
    "* sorting因為被其他程式當成模組來用，在計算機科學中是個基本功。\n",
    "* correct, 演算法如果能停下，並給出正確答案，就是correct。（能給出正確答案卻不會停是哪招啊？）\n",
    "    當然也有一些演算法是有一定“機率”成功，善加運用也可以得到正確結果，見31章。\n",
    "### Exercise\n",
    "** 先跳過讀第三章，覺得廢話太多＝ ＝ **"
   ]
  },
  {
   "cell_type": "markdown",
   "metadata": {},
   "source": [
    "快速複習矩陣跟矩陣運算方法\n",
    "## D.1 Matrices and matrix operations\n",
    "$一個m乘n的矩陣A_{m,n} = \n",
    " \\begin{bmatrix}\n",
    "  a_{1,1} & a_{1,2} & \\cdots & a_{1,n} \\\\\n",
    "  a_{2,1} & a_{2,2} & \\cdots & a_{2,n} \\\\\n",
    "  \\vdots  & \\vdots  & \\ddots & \\vdots  \\\\\n",
    "  a_{m,1} & a_{m,2} & \\cdots & a_{m,n} \n",
    " \\end{bmatrix}\n",
    " =\n",
    " \\begin{bmatrix}\n",
    "  1 & 2 & \\cdots  \\\\\n",
    "  3 & 4 & \\cdots  \\\\\n",
    "  \\vdots  & \\vdots  & \\ddots \n",
    " \\end{bmatrix}\n",
    " $\n",
    " \n",
    " 其中$a_{1,1}=1, a_{1,2}=2$，以此類推。\n",
    " \n",
    "* Transpose 矩陣$A^T$則是$\\forall a_{i,j} \\in A都mapping到A^{T}裡的a_{j,i}$\n",
    "* Vector 則是one-dimentional的矩陣, column vector是$n\\times 1$, row vector則是$1\\times n$, 可用transpose作轉換。\n",
    "* unit vector $e_i是i_{th}為1，其他都是0的vector$\n",
    "* zero matrix 是元素全為0的矩陣\n",
    "## Square matrix 方陣\n",
    "1. Diagonal matrix $\\forall i \\neq j, a_{i,j}=0$\n",
    "2. Identity matrix is a diagonal matrix and $\\forall a_{i,j}=1$\n",
    "3. Tridigonal matrix, $T \\text{ is}\\forall |i-j|>1, a_{i,j}=0  $\n",
    "4. upper-triangle matrix  $U \\text{ is} \\forall i>j, a_{i,j}=0  $\n",
    "5. lower-triangle matrix  $L \\text{ is} \\forall i<j, a_{i,j}=0  $\n",
    "6. permutation matrix $P$, there is exact one 1 in each column or row, and 0 elsewhere\n",
    "7. symmetric matrix $A=A^T$\n",
    "## BASIC Matrix operations 基本矩陣運算\n",
    "1. add\n",
    "2. scalar multiple\n",
    "3. compatible is matrix $A,B$ where $A=(a_{i,j})\\text{  is  }m*n\\text{  matrix  }$, $B=(b_{i,j})\\text{  is  }n*p\\text{  matrix  }$\n",
    "4. multiplication $C = AB$ where $C_{i,j}=\\displaystyle\\sum_{k=1}^{n} a_{i,k}*b_{k,j}$, 計算n方陣需要左列的n次乘法，n－1次加法再乘元素數量＝$n^2$所以各是$n^3, n^2(n-1)$是$\\Theta (n^3)$\n",
    "## 運算性質\n",
    "1. compatiable matrix的乘法 distrubutes or addirion:\n",
    "    $A(B+C) = AB+AC$\n",
    "2. for n>1, 乘法沒有commutative， ex:\n",
    "$\n",
    "A = \\bigl(\\begin{smallmatrix}0&1 \\\\ 0&0\\end{smallmatrix} \\bigr), B = \\bigl(\\begin{smallmatrix}0&0 \\\\ 1&0\\end{smallmatrix} \\bigr), AB\\neq BA$\n",
    " \n",
    "Exercises\n",
    "* D.1-1 Show that if A and B are symmetric $n\\times n$ matrices, then so are A+B and A-B. \n",
    "\n",
    "if $A$ and $B$ are symmetric, then $a_{i,j} = a_{j,i} ,for \\forall i,j,0<=i<n, 0<=j<n$ \n",
    "$C = A+B, c_{i,j} = a_{i,j}+b_{i,j}\\text{, since A,B are symmetric,} a_{i,j} = a_{j,i} ,for \\forall i,j,0<=i<n, 0<=j<n $\n",
    "\n",
    "thus, $c_{i,j} = a_{j,i}+b_{j,i}= c_{j,i}, C$ is symmetric\n",
    "* D.1-2 Prove that $(AB)^T= B^TA^T$ and that $A^TA$ is always a symmetric matrix. \n",
    "* D.1-3 Prove that the product of two lower-triangular matrices is lower-triangular.\n",
    "* D.1-4 Prove that $P$ is a $n\\times n$permutation matrix and $A$ is a $n\\times n$matrix,then the matrix product $PA$ is $A$ with its rows permuted, and the matrix product $AP$ is $A$ with its columns permuted. Prove that the product of two permutation matrices is a permutation matrix."
   ]
  },
  {
   "cell_type": "markdown",
   "metadata": {},
   "source": [
    "## 2. Models of computation, Python cost model, document distance\n",
    "\n",
    "# Homework"
   ]
  },
  {
   "cell_type": "markdown",
   "metadata": {},
   "source": []
  },
  {
   "cell_type": "markdown",
   "metadata": {},
   "source": [
    "## 參考資料\n",
    "1. [課程網頁](http://ocw.mit.edu/courses/electrical-engineering-and-computer-science/6-006-introduction-to-algorithms-fall-2011/index.htm) \n",
    "2. [Python Cost Model](http://ocw.mit.edu/courses/electrical-engineering-and-computer-science/6-006-introduction-to-algorithms-fall-2011/readings/python-cost-model/)\n",
    "3. [Latex參考資料](https://en.wikibooks.org/wiki/LaTeX/Mathematics)\n",
    "4. [solutions to part C](http://clrs.skanev.com/)\n",
    "5. [另外一門進階課程](http://ocw.mit.edu/courses/electrical-engineering-and-computer-science/6-851-advanced-data-structures-spring-2012/index.htm)"
   ]
  },
  {
   "cell_type": "code",
   "execution_count": null,
   "metadata": {
    "collapsed": true
   },
   "outputs": [],
   "source": []
  },
  {
   "cell_type": "code",
   "execution_count": null,
   "metadata": {
    "collapsed": true
   },
   "outputs": [],
   "source": []
  },
  {
   "cell_type": "code",
   "execution_count": null,
   "metadata": {
    "collapsed": true
   },
   "outputs": [],
   "source": []
  },
  {
   "cell_type": "markdown",
   "metadata": {},
   "source": [
    "## Chapter 3 Growth of Functions\n",
    "### Asymptotic Notation 漸進符號\n",
    "這裡我們要定義一些以後常用的工具，方便我們釐清演算法效能。\n",
    "* $\\Theta$ -notation: the set of functions\n",
    "\n",
    "    $\\Theta (g(n)) = \\{f(n): \\text{  there exist positive constants } c_1, c_2\\text{, and }n_0\\text{ s.t.} \n",
    "    0\\leq c_1g(n)\\leq f(n) \\leq c_2g(n) \\text{for all} n \\geq n_0\\}$\n",
    "    \n",
    "    \n",
    "$\\Omega = $\n",
    "\n",
    "$\\omega = $\n",
    "$O = $\n",
    "\n",
    "$o = $\n",
    "\n",
    "### Theorem 3.1\n",
    "任何兩個function f, g, \n",
    "$f = \\Theta(g) \\iff f = O(g) and f =\\Omega (g)$\n",
    "\n",
    "\n",
    "課本中有拿實數的比較當例子來跟漸進符號做類比。值得一提的是實數有**Trichotomy**（一定是$=,\\lt,\\gt$三種之一的性質）但是有一些像是$n^{1+sin(n)}$之類在0跟2之間跳舞的函數會讓Trichotomy破功。（讓我想起$sin\\frac{1}{x}$這個調皮的小鬼）\n",
    "**\n"
   ]
  },
  {
   "cell_type": "code",
   "execution_count": null,
   "metadata": {
    "collapsed": true
   },
   "outputs": [],
   "source": []
  },
  {
   "cell_type": "code",
   "execution_count": null,
   "metadata": {
    "collapsed": true
   },
   "outputs": [],
   "source": []
  },
  {
   "cell_type": "markdown",
   "metadata": {},
   "source": [
    "進度\n",
    "有48個lecture，每個1～2小時以上計算，需要100小時學習時數。"
   ]
  }
 ],
 "metadata": {
  "kernelspec": {
   "display_name": "Python 2",
   "language": "python",
   "name": "python2"
  },
  "language_info": {
   "codemirror_mode": {
    "name": "ipython",
    "version": 2
   },
   "file_extension": ".py",
   "mimetype": "text/x-python",
   "name": "python",
   "nbconvert_exporter": "python",
   "pygments_lexer": "ipython2",
   "version": "2.7.10"
  }
 },
 "nbformat": 4,
 "nbformat_minor": 0
}
