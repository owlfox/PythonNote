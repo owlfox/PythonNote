{
 "cells": [
  {
   "cell_type": "markdown",
   "metadata": {},
   "source": [
    "# 演算法筆記\n",
    "###範例：Peak finding\n",
    "\n",
    "\n",
    "\n",
    "## 1. Algorithmic thinking, peak finding\n",
    "\n",
    "### 讀書筆記\n",
    "範圍1, 3, D.1\n",
    "\n",
    "\n",
    "快速複習矩陣跟矩陣運算方法\n",
    "## D.1 Matrices and matrix operations\n",
    "$一個m乘n的矩陣A_{m,n} = \n",
    " \\begin{pmatrix}\n",
    "  a_{1,1} & a_{1,2} & \\cdots & a_{1,n} \\\\\n",
    "  a_{2,1} & a_{2,2} & \\cdots & a_{2,n} \\\\\n",
    "  \\vdots  & \\vdots  & \\ddots & \\vdots  \\\\\n",
    "  a_{m,1} & a_{m,2} & \\cdots & a_{m,n} \n",
    " \\end{pmatrix}\n",
    " =\n",
    " \\begin{pmatrix}\n",
    "  1 & 2 & \\cdots  \\\\\n",
    "  3 & 4 & \\cdots  \\\\\n",
    "  \\vdots  & \\vdots  & \\ddots \n",
    " \\end{pmatrix}\n",
    " $\n",
    " \n",
    " 其中$a_{1,1}=1, a_{1,2}=2$，以此類推。\n",
    " \n",
    "* Transpose 矩陣$A^T$則是$\\forall a_{i,j} \\in A都mapping到A^{T}裡的a_{j,i}$\n",
    "* Vector 則是one-dimentional的矩陣, column vector是$n\\times 1$, row vector則是$1\\times n$, 可用transpose作轉換。\n",
    "* unit vector $e_i是i_{th}為1，其他都是0的vector$\n",
    "* zero matrix 是元素全為0的矩陣\n",
    "## Square matrix 方陣\n",
    "1. Diagonal matrix $\\forall i \\neq j, a_{i,j}=0$\n",
    "2. Identity matrix is a diagonal matrix and $\\forall a_{i,j}=1$\n",
    "3. Tridigonal matrix, $T \\text{ is}\\forall |i-j|>1, a_{i,j}=0  $\n",
    "4. upper-triangle matrix  $U \\text{ is} \\forall i>j, a_{i,j}=0  $\n",
    "5. lower-triangle matrix  $L \\text{ is} \\forall i<j, a_{i,j}=0  $\n",
    "6. permutation matrix $P$, there is exact one 1 in each column or row, and 0 elsewhere\n",
    "7. symmetric matrix $A=A^T$\n",
    "## BASIC Matrix operations 基本矩陣運算\n",
    "1. add\n",
    "2. scalar multiple\n",
    "3. compatible is matrix $A,B$ where $A=(a_{i,j})\\text{  is  }m*n\\text{  matrix  }$, $B=(b_{i,j})\\text{  is  }n*p\\text{  matrix  }$\n",
    "4. multiplication $C = AB$ where $C_{i,j}=\\displaystyle\\sum_{k=1}^{n} a_{i,k}*b_{k,j}$, 計算n方陣需要左列的n次乘法，n－1次加法再乘元素數量＝$n^2$所以各是$n^3, n^2(n-1)$是$\\Theta (n^3)$\n",
    "## 運算性質\n",
    "1. compatiable matrix的乘法 distrubutes or addirion:\n",
    "    $A(B+C) = AB+AC$\n",
    "2. for n>1, 乘法沒有commutative， ex:\n",
    "$\n",
    "A = \\bigl(\\begin{smallmatrix}0&1 \\\\ 0&0\\end{smallmatrix} \\bigr), B = \\bigl(\\begin{smallmatrix}0&0 \\\\ 1&0\\end{smallmatrix} \\bigr), AB\\neq BA$\n",
    " \n",
    "Exercises\n",
    "* D.1-1 Show that if A and B are symmetric $n\\times n$ matrices, then so are A+B and A-B. \n",
    "\n",
    "if $A$ and $B$ are symmetric, then $a_{i,j} = a_{j,i} ,for \\forall i,j,0<=i<n, 0<=j<n$ \n",
    "$C = A+B, c_{i,j} = a_{i,j}+b_{i,j}\\text{, since A,B are symmetric,} a_{i,j} = a_{j,i} ,for \\forall i,j,0<=i<n, 0<=j<n $\n",
    "\n",
    "thus, $c_{i,j} = a_{j,i}+b_{j,i}= c_{j,i}, C$ is symmetric\n",
    "* D.1-2 Prove that $(AB)^T= B^TA^T$ and that $A^TA$ is always a symmetric matrix. \n",
    "* D.1-3 Prove that the product of two lower-triangular matrices is lower-triangular.\n",
    "* D.1-4 Prove that $P$ is a $n\\times n$permutation matrix and $A$ is a $n\\times n$matrix,then the matrix product $PA$ is $A$ with its rows permuted, and the matrix product $AP$ is $A$ with its columns permuted. Prove that the product of two permutation matrices is a permutation matrix.\n",
    "\n",
    "## 2. Models of computation, Python cost model, document distance\n"
   ]
  },
  {
   "cell_type": "code",
   "execution_count": null,
   "metadata": {
    "collapsed": true
   },
   "outputs": [],
   "source": []
  },
  {
   "cell_type": "markdown",
   "metadata": {},
   "source": [
    "## 參考資料\n",
    "1. [課程網頁](http://ocw.mit.edu/courses/electrical-engineering-and-computer-science/6-006-introduction-to-algorithms-fall-2011/index.htm) \n",
    "2. [Python Cost Model](http://ocw.mit.edu/courses/electrical-engineering-and-computer-science/6-006-introduction-to-algorithms-fall-2011/readings/python-cost-model/)\n",
    "3. [Latex參考資料](https://en.wikibooks.org/wiki/LaTeX/Mathematics)\n",
    "4. [solutions to part C](http://clrs.skanev.com/)"
   ]
  },
  {
   "cell_type": "code",
   "execution_count": null,
   "metadata": {
    "collapsed": true
   },
   "outputs": [],
   "source": []
  },
  {
   "cell_type": "code",
   "execution_count": null,
   "metadata": {
    "collapsed": true
   },
   "outputs": [],
   "source": []
  },
  {
   "cell_type": "code",
   "execution_count": null,
   "metadata": {
    "collapsed": true
   },
   "outputs": [],
   "source": []
  },
  {
   "cell_type": "code",
   "execution_count": null,
   "metadata": {
    "collapsed": true
   },
   "outputs": [],
   "source": []
  },
  {
   "cell_type": "code",
   "execution_count": null,
   "metadata": {
    "collapsed": true
   },
   "outputs": [],
   "source": []
  },
  {
   "cell_type": "code",
   "execution_count": null,
   "metadata": {
    "collapsed": true
   },
   "outputs": [],
   "source": []
  }
 ],
 "metadata": {
  "kernelspec": {
   "display_name": "Python 2",
   "language": "python",
   "name": "python2"
  },
  "language_info": {
   "codemirror_mode": {
    "name": "ipython",
    "version": 2
   },
   "file_extension": ".py",
   "mimetype": "text/x-python",
   "name": "python",
   "nbconvert_exporter": "python",
   "pygments_lexer": "ipython2",
   "version": "2.7.10"
  }
 },
 "nbformat": 4,
 "nbformat_minor": 0
}
