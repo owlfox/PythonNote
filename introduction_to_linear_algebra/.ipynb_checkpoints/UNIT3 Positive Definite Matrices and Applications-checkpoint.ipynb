{
 "cells": [
  {
   "cell_type": "markdown",
   "metadata": {},
   "source": [
    "# [Unit III: Positive Definite Matrices and Applications](http://ocw.mit.edu/courses/mathematics/18-06sc-linear-algebra-fall-2011/positive-definite-matrices-and-applications/)\n",
    "\n",
    "\n",
    "In this unit we discuss matrices with special properties – symmetric, possibly complex, and positive definite. The central topic of this unit is converting matrices to nice form (diagonal or nearly-diagonal) through multiplication by other matrices. Generally, this process requires some knowledge of the eigenvectors and eigenvalues of the matrix.\n",
    "\n",
    "# L1: Symmetric Matrices and Positive Definiteness\n",
    "Special matrices have special eigenvalues and eigenvectors. Symmetric and positive definite matrices have extremely nice properties, and studying these matrices brings together everything we've learned about pivots, determinants and eigenvalues. In this session we also practice doing linear algebra with complex numbers and learn how the pivots give information about the eigenvalues of a symmetric matrix.\n",
    "### Read Section 6.4 through 6.5 in the textbook.\n",
    "### Exercise"
   ]
  },
  {
   "cell_type": "markdown",
   "metadata": {},
   "source": [
    "# L2: Complex Matrices; Fast Fourier Transform (FFT)\n",
    "\t\n",
    "The Fourier matrices have complex valued entries and many nice properties. This session covers the basics of working with complex matrices and vectors, and concludes with a description of the fast Fourier transform.\n",
    "\n",
    "### Read Section 10.2, 10.3 in the textbook.\n",
    "### Exercise"
   ]
  },
  {
   "cell_type": "markdown",
   "metadata": {},
   "source": [
    "# L3: Positive Definite Matrices and Minima\n",
    "\t\n",
    "\t\n",
    "In calculus, the second derivative decides whether a critical point of y(x) is a minimum. For functions of multiple variables, the test is whether a matrix of second derivatives is positive definite. In this session we learn several ways of testing for positive definiteness and also how the shape of the graph of ƒ(x) = xT Ax is determined by the entries of A.\n",
    "\n",
    "### Read Section 6.5 in the textbook.\n",
    "### Exercise"
   ]
  },
  {
   "cell_type": "markdown",
   "metadata": {},
   "source": [
    "# L4: Similar Matrices and Jordan Form\n",
    "\n",
    "\t\n",
    "After a final discussion of positive definite matrices, we learn about \"similar\" matrices: B = M−1AM for some invertible matrix M. Square matrices can be grouped by similarity, and each group has a \"nicest\" representative in Jordan normal form. This form tells at a glance the eigenvalues and the number of eigenvectors.\n",
    "\n",
    "### Read Section 6.6 in the textbook.\n",
    "### Exercise"
   ]
  },
  {
   "cell_type": "markdown",
   "metadata": {},
   "source": [
    "# L5: Singular Value Decomposition\n",
    "\t\n",
    "If A is symmetric and positive definite, there is an orthogonal matrix Q for which A = QΛQT. Here Λ is the matrix of eigenvalues. Singular Value Decomposition lets us write any matrix A as a product UΣVT where U and V are orthogonal and Σ is a diagonal matrix whose non-zero entries are square roots of the eigenvalues of ATA. The columns of U and V give bases for the four fundamental subspaces.\n",
    "\n",
    "### Read Section 6.7 in the textbook.\n",
    "### Exercise"
   ]
  },
  {
   "cell_type": "markdown",
   "metadata": {},
   "source": [
    "# L6: Linear Transformations and their Matrices\n",
    "\t\n",
    "When we multiply a matrix by an input vector we get an output vector, often in a new space. We can ask what this \"linear transformation\" does to all the vectors in a space. In fact, matrices were originally invented for the study of linear transformations.\n",
    "\n",
    "### Read Section 7.1 in the textbook.\n",
    "### Exercise"
   ]
  },
  {
   "cell_type": "markdown",
   "metadata": {},
   "source": [
    "# L7: Change of Basis; Image Compression\n",
    "\t\n",
    "Video cameras record data in a poor format for broadcasting video. To transmit video efficiently, linear algebra is used to change the basis. But which basis is best for video compression is an important question that has not been fully answered!\n",
    "\n",
    "### Read Section 7.2 in the textbook.\n",
    "### Exercise"
   ]
  },
  {
   "cell_type": "markdown",
   "metadata": {},
   "source": [
    "# L8: Left and Right Inverses; Pseudoinverse\n",
    "\t\n",
    "\t\n",
    "We'd like to be able to \"invert A\" to solve Ax = b, but A may have only a left inverse or right inverse (or no inverse). This discussion of how and when matrices have inverses improves our understanding of the four fundamental subspaces and of many other key topics in the course.\n",
    "\n",
    "Note: In the Fall of 1999, when the lecture videos were recorded, this lecture was given after exam 3. For the OCW Scholar version of the course we have moved it into the main body of material.\n",
    "\n",
    "### Read Section 7.3 in the textbook.\n",
    "### Exercise"
   ]
  },
  {
   "cell_type": "markdown",
   "metadata": {},
   "source": [
    "# Exam review\n",
    "\t\n",
    "\t\n",
    "Exam 3 covers the understanding of matrices through their eigenvalues. Elimination is history now, because it does NOT preserve eigenvalues. Notice the special types of matrices (like positive definite) and their factorizations.\n",
    "\n",
    "### Review Chapters 6 and 7, plus Sections 10.2 through 10.3 in the textbook.\n",
    "### Exercise"
   ]
  },
  {
   "cell_type": "markdown",
   "metadata": {},
   "source": [
    "# [Final Review](http://ocw.mit.edu/courses/mathematics/18-06sc-linear-algebra-fall-2011/final-course-review/)\n",
    "\t\n",
    "Even the \"easy\" material from the first third of the class is useful in answering these surprisingly complicated questions! Your understanding of linear algebra has been built up using the four subspaces, the eigenvalues, and all the special types of matrices: symmetric, orthogonal, projections, permutations (and you can add more).\n",
    "\n",
    "### Exercise"
   ]
  },
  {
   "cell_type": "markdown",
   "metadata": {},
   "source": [
    "# [Final](http://ocw.mit.edu/courses/mathematics/18-06sc-linear-algebra-fall-2011/final-exam/)\n",
    "\n",
    "Nine questions in a three-hour closed-book exam would be typical for this course at MIT. We try to cover all the way from Ax=0 (the null space and the special solutions) to projections, determinants, eigenvalues, and even a touch of singular values from the eigenvalues of ATA. That is the good matrix of linear algebra: square, symmetric, and positive definite or at least semidefinite.\n",
    "\n",
    "### Exercise"
   ]
  },
  {
   "cell_type": "code",
   "execution_count": null,
   "metadata": {
    "collapsed": true
   },
   "outputs": [],
   "source": []
  }
 ],
 "metadata": {
  "kernelspec": {
   "display_name": "Python 2",
   "language": "python",
   "name": "python2"
  },
  "language_info": {
   "codemirror_mode": {
    "name": "ipython",
    "version": 2
   },
   "file_extension": ".py",
   "mimetype": "text/x-python",
   "name": "python",
   "nbconvert_exporter": "python",
   "pygments_lexer": "ipython2",
   "version": "2.7.11"
  }
 },
 "nbformat": 4,
 "nbformat_minor": 0
}
