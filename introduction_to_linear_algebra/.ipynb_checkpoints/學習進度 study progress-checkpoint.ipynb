{
 "cells": [
  {
   "cell_type": "code",
   "execution_count": null,
   "metadata": {
    "collapsed": true
   },
   "outputs": [],
   "source": [
    "09/09 The Geometry of Linear Equations 1.1-2.1\n",
    "09/11 Elimination with Matrices 2.2-2.3\n",
    "09/14 Matrix Operations and Inverses 2.4-2.5\n",
    "09/16 LU and LDU Factorization 2.6\n",
    "09/18 Transposes and Permutations 2.7\n",
    "09/21 Vector Spaces and Subspaces 3.1\n",
    "09/23 The Nullspace: Solving Ax = 0 3.2\n",
    "09/25 Rectangular PA = LU and Ax = b 3.3-3.4\n",
    "09/28 Row Reduced Echelon Form 3.3-3.4\n",
    "09/30 Basis and Dimension 3.5"
   ]
  }
 ],
 "metadata": {
  "kernelspec": {
   "display_name": "Python 2",
   "language": "python",
   "name": "python2"
  },
  "language_info": {
   "codemirror_mode": {
    "name": "ipython",
    "version": 2
   },
   "file_extension": ".py",
   "mimetype": "text/x-python",
   "name": "python",
   "nbconvert_exporter": "python",
   "pygments_lexer": "ipython2",
   "version": "2.7.10"
  }
 },
 "nbformat": 4,
 "nbformat_minor": 0
}
