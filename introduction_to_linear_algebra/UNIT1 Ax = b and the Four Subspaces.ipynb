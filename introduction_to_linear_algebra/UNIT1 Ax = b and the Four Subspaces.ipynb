{
 "cells": [
  {
   "cell_type": "markdown",
   "metadata": {},
   "source": [
    "我想我基本上是要follow這個課程\n",
    "\n",
    "[課程網頁](http://ocw.mit.edu/courses/mathematics/18-06sc-linear-algebra-fall-2011/index.htm)\n",
    "但是2015年的課程裡面有程式的作業用[Julia](https://juliabox.org/)，我覺得也很有趣，一邊搭配使用 http://web.mit.edu/18.06/www/index.shtml\n",
    "\n",
    "\n",
    "## Readings of textbook\n",
    "09/09 The Geometry of Linear Equations 1.1-2.1 \n",
    "09/11 Elimination with Matrices 2.2-2.3\n",
    "09/14 Matrix Operations and Inverses 2.4-2.5\n",
    "\n",
    "總共有40個小節，我想每個小節至少要花2小時閱讀完，所以至少是80小時的學習時間。\n",
    "最好是分散到30天，每天2～3小時，這樣在1月中我就能學完？\n",
    "另外還想搭配 coding the matrix來練習pyhton\n",
    "1. The geometry on linear equation,\n",
    "    \n",
    "2. An overview of ideas,\n",
    "    Qestion: "
   ]
  },
  {
   "cell_type": "markdown",
   "metadata": {},
   "source": [
    "## 課堂筆記1 The geometry of linear equations\n",
    "\t\n",
    "A major application of linear algebra is to solving systems of linear equations. This lecture presents three ways of thinking about these systems. The \"row method\" focuses on the individual equations, the \"column method\" focuses on combining the columns, and the \"matrix method\" is an even more compact and powerful way of describing systems of linear equations.\n",
    "\n",
    "![pcc](http://ocw.mit.edu/courses/mathematics/18-06sc-linear-algebra-fall-2011/ax-b-and-the-four-subspaces/the-geometry-of-linear-equations/1_1.jpg)\n",
    "Portion of Fig. 2.2 from the textbook Introduction to Linear Algebra.\n",
    "\n",
    "[link to course section](http://ocw.mit.edu/courses/mathematics/18-06sc-linear-algebra-fall-2011/ax-b-and-the-four-subspaces/the-geometry-of-linear-equations/)\n",
    "\n",
    "[第一節pdf](unit1/MIT18_06SCF11_Ses1.1sum.pdf)\n",
    "這個小節我們透過探討線性聯立方程組來認識線性代數。\n",
    "1. 直接畫出兩條方程式，求交點。\n",
    "2. 透過畫出column vector 找出可能得到目標輸出的線性組合。\n",
    "**coefficient matrix** is a **singular matrix** if the column vectors are **\n",
    "linearly dependent**, or$Ax=b, \\forall b$ is not solvable.\n",
    "### Read Section 1.1, 1.2, and 2.1 in the textbook.\n",
    "\n",
    "\n",
    "### Exercise\n",
    "1.1\n",
    "$w_1 = \n",
    " \\begin{bmatrix}\n",
    "  1  \\\\\n",
    "  2  \\\\\n",
    "  3 \n",
    " \\end{bmatrix}$\n",
    " $w_2 = \n",
    " \\begin{bmatrix}\n",
    "  4  \\\\\n",
    "  5  \\\\\n",
    "  6 \n",
    " \\end{bmatrix}$\n",
    " $w_3 = \n",
    " \\begin{bmatrix}\n",
    "  7  \\\\\n",
    "  8  \\\\\n",
    "  9 \n",
    " \\end{bmatrix}$問這組向量可以span出什麼？\n",
    " \n",
    " A:\n",
    " 平面\n",
    " \n",
    " \n",
    " 1.2 算  $\\begin{bmatrix}\n",
    "       1 & 2 & 0 \\\\\n",
    "       2 & 0 & 3 \\\\\n",
    "       4 & 1 & 1\n",
    "     \\end{bmatrix}\n",
    "  \\begin{bmatrix}\n",
    "  3  \\\\\n",
    "  2  \\\\\n",
    "  1 \n",
    " \\end{bmatrix}$\n",
    " \n",
    " A:\n",
    " 1.3 trivial... 等我想到要講什麼再回來寫\n"
   ]
  },
  {
   "cell_type": "markdown",
   "metadata": {},
   "source": [
    "# An overviw of key concepts\n",
    "\n",
    "[link](http://ocw.mit.edu/courses/mathematics/18-06sc-linear-algebra-fall-2011/ax-b-and-the-four-subspaces/an-overview-of-key-ideas/)\n",
    "Professor Strang recommends this video from his Computational Science and Engineering I course (18.085) as an overview of the basics of linear algebra.\n",
    "### Read Section 1.3 in the textbook.\n",
    "### Exercise"
   ]
  },
  {
   "cell_type": "markdown",
   "metadata": {},
   "source": [
    "## Lecture 2 Elimination with matrices\n",
    "[link](http://ocw.mit.edu/courses/mathematics/18-06sc-linear-algebra-fall-2011/ax-b-and-the-four-subspaces/elimination-with-matrices/)\n",
    "This session introduces the method of elimination, an essential tool for working with matrices. The method follows a simple algorithm. To help make sense of material presented later, we describe this algorithm in terms of matrix multiplication.\n",
    "![Alt text][id]\n",
    "\n",
    "\n",
    "[id]: http://ocw.mit.edu/courses/mathematics/18-06sc-linear-algebra-fall-2011/ax-b-and-the-four-subspaces/elimination-with-matrices/1_2.jpg  \"Optional title attribute\"\n",
    "\n",
    "invertible：Ax=b, A必須可逆才有解\n",
    "pivot：row_i的第i個element，\n",
    "在把矩陣算成upper triangle之後，每個pivot必須非0，這樣才能用back subtution求出解答\n",
    "\n",
    "\t\n",
    "\n",
    "### Read Section 2.2 through 2.3 in the textbook.\n",
    "\n",
    "\n",
    "### Exercise\n"
   ]
  },
  {
   "cell_type": "markdown",
   "metadata": {},
   "source": [
    "## Lecture 3: Multiplication and inverse matrices\n",
    "\n",
    "This lecture looks at matrix multiplication from five different points of view. We then learn how to find the inverse of a matrix using elimination, and why the Gauss-Jordan method works.\n",
    "![Alt text][id]\n",
    "[id]: http://ocw.mit.edu/courses/mathematics/18-06sc-linear-algebra-fall-2011/ax-b-and-the-four-subspaces/multiplication-and-inverse-matrices/1_3.jpg  \"Optional title attribute\"\n",
    "\n",
    "\n",
    "\n",
    "If A is a square matrix, the most important question you can ask about it is whether it has an inverse A−1. If it does, then A−1A = I = AA−1 and we say that A is **invertible or nonsingular.**\n",
    "\n",
    "\n",
    "### Read Section 2.4 through 2.5 in the textbook.\n",
    "\n",
    "\n",
    "### Exercise\n",
    "\n"
   ]
  },
  {
   "cell_type": "markdown",
   "metadata": {},
   "source": [
    "## Lecture 4: Factorization into A = LU\n",
    "\t\n",
    "This session explains inverses, transposes and permutation matrices. We also learn how elimination leads to a useful factorization A = LU and how hard a computer will work to invert a very large matrix.\n",
    "### [第四節pdf](unit1/MIT18_06SCF11_Ses1.4sum.pdf)\n",
    "### Read Section 2.6 in the textbook.\n",
    "我們在化簡矩陣的時候，透過$E_{21} E_{31}...A$來達成，最後完成LU兩個lower, upper triangle matrix！\n",
    "Ex4.1\n",
    "Ex4.2\n",
    "Recitation"
   ]
  },
  {
   "cell_type": "markdown",
   "metadata": {},
   "source": [
    "## Lecture 5: Transposes, Permutations, Vector Spaces\n",
    "\t\n",
    "To account for row exchanges in Gaussian elimination, we include a permutation matrix P in the factorization PA = LU. Then we learn about vector spaces and subspaces; these are central to linear algebra.\n",
    "\n",
    "### [第五節pdf](unit1/MIT18_06SCF11_Ses1.5sum.pdf)\n",
    "### Read Section 2.7 in the textbook.\n",
    "[Transposes, Permutations, Vector Spaces](https://www.youtube.com/watch?v=JibVXBElKL0)\n",
    "[recitation](https://www.youtube.com/watch?v=3SkCNpFOshk)\n",
    "vector space: 只要我們有一組向量，定義出加法跟常數乘法（合乎八個線性代數準則的），被這組向量及運算子線性組合產生的所有向量，我們稱為向量空間。\n",
    "CEx：xy平面上第一象限的點$\\neq$向量空間，因為我們取任一向量*一負數就跑到外面去了。\n",
    "\n",
    "subspace: A vector space that is contained inside of another vector space\n",
    "$R^2$的subspace：\n",
    "1. $R^2$\n",
    "2. a line in $R^2$, passing $0$\n",
    "3. $0$\n",
    "\n",
    "Given a matrix A with columns in $R^3$, the vector space it , these columns and all their linear combinations form a subspace of $R^3$, $C(A)$\n",
    "\n"
   ]
  },
  {
   "cell_type": "markdown",
   "metadata": {},
   "source": [
    "## Lecture 6: Column Space and Nullspace\n",
    "[link](http://ocw.mit.edu/courses/mathematics/18-06sc-linear-algebra-fall-2011/ax-b-and-the-four-subspaces/column-space-and-nullspace/)\n",
    "The column space of a matrix A tells us when the equation Ax = b will have a solution x. The null space of A tells us which values of x solve the equation Ax = 0.\n",
    "### Read Section 3.1 through 3.2 in the textbook.\n",
    "### [第6節pdf](unit1/MIT18_06SCF11_Ses1.6sum.pdf)\n",
    "* Review\n",
    "    * What is Vector space?\n",
    "        c*v+d*w in V\n",
    "Subspaces S, T, intersection $S\\cap T$ is a subspace.\n",
    "1. Column Space\n",
    "2. Null Space"
   ]
  },
  {
   "cell_type": "markdown",
   "metadata": {},
   "source": [
    "## Lecture 7: Solving Ax = 0: Pivot Variables, Special Solutions\n",
    "[link](http://ocw.mit.edu/courses/mathematics/18-06sc-linear-algebra-fall-2011/ax-b-and-the-four-subspaces/solving-ax-0-pivot-variables-special-solutions/)\n",
    "We apply the method of elimination to all matrices, invertible or not. Counting the pivots gives us the rank of the matrix. Further simplifying the matrix puts it in reduced row echelon form R and improves our description of the null space.\n",
    "### Read Section 3.2 in the textbook.\n",
    "### [第7節pdf](unit1/MIT18_06SCF11_Ses1.7sum.pdf)\n",
    "* Review\n",
    "* Solve "
   ]
  },
  {
   "cell_type": "markdown",
   "metadata": {},
   "source": [
    "## Lecture 8: Solving Ax = b: Row Reduced Form R\n",
    "[link](http://ocw.mit.edu/courses/mathematics/18-06sc-linear-algebra-fall-2011/ax-b-and-the-four-subspaces/solving-ax-b-row-reduced-form-r/)\n",
    "We describe all solutions to Ax = b based on the free variables and special solutions encoded in the reduced form R.\n",
    "\n",
    "\n",
    "### Read Section 3.3 through 3.4 in the textbook.\n",
    "\n",
    "### Exercise"
   ]
  },
  {
   "cell_type": "markdown",
   "metadata": {},
   "source": [
    "## Lecture 9: Independence, Basis and Dimension\n",
    "[link](http://ocw.mit.edu/courses/mathematics/18-06sc-linear-algebra-fall-2011/ax-b-and-the-four-subspaces/independence-basis-and-dimension/)\n",
    "A basis is a set of vectors, as few as possible, whose combinations produce all vectors in the space. The number of basis vectors for a space equals the dimension of that space.\n",
    "\n",
    "### Read Section 3.5 in the textbook.\n",
    "\n",
    "### Exercise"
   ]
  },
  {
   "cell_type": "markdown",
   "metadata": {},
   "source": [
    "## Lecture 10: The Four Fundamental Subspaces\n",
    "[link](http://ocw.mit.edu/courses/mathematics/18-06sc-linear-algebra-fall-2011/ax-b-and-the-four-subspaces/the-four-fundamental-subspaces/)\n",
    "For some vectors b the equation Ax = b has solutions and for others it does not. Some vectors x are solutions to the equation Ax = 0 and some are not. To understand these equations we study the column space, nullspace, row space and left nullspace of the matrix A.\n",
    "\n",
    "### Read Section 3.6 in the textbook.\n",
    "\n",
    "### Exercise"
   ]
  },
  {
   "cell_type": "markdown",
   "metadata": {},
   "source": [
    "## Lecture 11: Matrix Spaces; Rank 1; Small World Graphs\n",
    "[link](http://ocw.mit.edu/courses/mathematics/18-06sc-linear-algebra-fall-2011/ax-b-and-the-four-subspaces/matrix-spaces-rank-1-small-world-graphs/)\n",
    "As we learned last session, vectors don't have to be lists of numbers. In this session we explore important new vector spaces while practicing the skills we learned in the old ones. Then we begin the application of matrices to the study of networks.\n",
    "\n",
    "### Read Section 3.3 and 8.2 in the textbook.\n",
    "\n",
    "### Exercise"
   ]
  },
  {
   "cell_type": "markdown",
   "metadata": {},
   "source": [
    "## Lecture 12: Graphs, Networks, Incidence Matrices\n",
    "\t\n",
    "This session explores the linear algebra of electrical networks and the Internet, and sheds light on important results in graph theory.\n",
    "[link](http://ocw.mit.edu/courses/mathematics/18-06sc-linear-algebra-fall-2011/ax-b-and-the-four-subspaces/graphs-networks-incidence-matrices/)\n",
    "### Read Section 8.2 in the textbook.\n",
    "### [第12節pdf](unit1/MIT18_06SCF11_Ses1.12sum.pdf)"
   ]
  },
  {
   "cell_type": "code",
   "execution_count": null,
   "metadata": {
    "collapsed": true
   },
   "outputs": [],
   "source": [
    "\n",
    "# 定義\n",
    "echelon, "
   ]
  },
  {
   "cell_type": "markdown",
   "metadata": {
    "collapsed": true
   },
   "source": [
    "## 課堂筆記13 exam複習\n",
    "By approaching what we've learned from new directions, the questions in this exam review session test the depth of your understanding. Notice the short questions (with answers) at the end. This unit reached the key ideas of subspaces — a higher level of linear algebra. Please review the list of topics on the left.\n",
    "$u, v, w$ in $R^7$\n",
    "### Review Chapters 1, 2, and 3, plus Section 8.2 in the textbook.\n",
    "### Exercise"
   ]
  }
 ],
 "metadata": {
  "kernelspec": {
   "display_name": "Python 2",
   "language": "python",
   "name": "python2"
  },
  "language_info": {
   "codemirror_mode": {
    "name": "ipython",
    "version": 2
   },
   "file_extension": ".py",
   "mimetype": "text/x-python",
   "name": "python",
   "nbconvert_exporter": "python",
   "pygments_lexer": "ipython2",
   "version": "2.7.11"
  }
 },
 "nbformat": 4,
 "nbformat_minor": 0
}
