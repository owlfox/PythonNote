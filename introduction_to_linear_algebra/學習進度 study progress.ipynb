{
 "cells": [
  {
   "cell_type": "markdown",
   "metadata": {},
   "source": [
    "我想我基本上是要follow這個課程\n",
    "\n",
    "[課程網頁](http://ocw.mit.edu/courses/mathematics/18-06sc-linear-algebra-fall-2011/index.htm)\n",
    "但是2015年的課程裡面有程式的作業，我覺得也很有趣，一邊搭配使用 http://web.mit.edu/18.06/www/index.shtml\n",
    "\n",
    "總共有40個小節，我想每個小節至少要花2小時閱讀完，所以至少是80小時的學習時間。\n",
    "最好是分散到30天，每天2～3小時，這樣在1月中我就能學完？"
   ]
  }
 ],
 "metadata": {
  "kernelspec": {
   "display_name": "Python 2",
   "language": "python",
   "name": "python2"
  },
  "language_info": {
   "codemirror_mode": {
    "name": "ipython",
    "version": 2
   },
   "file_extension": ".py",
   "mimetype": "text/x-python",
   "name": "python",
   "nbconvert_exporter": "python",
   "pygments_lexer": "ipython2",
   "version": "2.7.10"
  }
 },
 "nbformat": 4,
 "nbformat_minor": 0
}
