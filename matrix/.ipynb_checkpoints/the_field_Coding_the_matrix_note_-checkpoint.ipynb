{
 "cells": [
  {
   "cell_type": "markdown",
   "metadata": {},
   "source": [
    "• $R$, the field of real numbers,\n",
    "\n",
    "• $C$, the field of complex numbers, and\n",
    "\n",
    "• $GF (2)$, a field that consists of 0 and 1.\n",
    "Problem 1.4.5: Show that, for any two distinct points z1 and z2,\n",
    "• there is a translation that maps z1 to z2,\n",
    "• there is a translation that maps z2 to z1, and\n",
    "• there is no translation that both maps z1 to z2 and z2 to z1.\n",
    "**Sol:**\n",
    "    一二從加減法就可得到，三從假設一二皆存在可推出悖論。"
   ]
  },
  {
   "cell_type": "code",
   "execution_count": null,
   "metadata": {
    "collapsed": true
   },
   "outputs": [],
   "source": [
    "from plotting import plot\n",
    "S = {2 + 2j,3 + 2j,1.75 + 1j,2 + 1j,2.25 + 1j,2.5+1j,2.75+1j,3+1j,3.25+1j}\n",
    "#plot(S)\n",
    "#plot({1+2j+z for z in S}, 4)"
   ]
  },
  {
   "cell_type": "markdown",
   "metadata": {},
   "source": [
    "Problem 1.4.6: Draw a diagram representing the complex number z0 = −3 + 3i using two arrows with their tails located at different points."
   ]
  },
  {
   "cell_type": "code",
   "execution_count": null,
   "metadata": {
    "collapsed": true
   },
   "outputs": [],
   "source": [
    "a = -3+3j\n",
    "b = 1+2j\n",
    "c = -4+1j\n",
    "plot([a,b,c+c])#看不太出效果...思考如何改進"
   ]
  },
  {
   "cell_type": "markdown",
   "metadata": {},
   "source": [
    "Task 1.4.8 畫出旋轉90度並縮短1/2的所有向量的S，請用簡便的乘$/frac{1/2}$"
   ]
  },
  {
   "cell_type": "code",
   "execution_count": null,
   "metadata": {
    "collapsed": false
   },
   "outputs": [],
   "source": [
    "from plotting import plot\n",
    "S = {2 + 2j,3 + 2j,1.75 + 1j,2 + 1j,2.25 + 1j,2.5+1j,2.75+1j,3+1j,3.25+1j}\n",
    "S1 = [x*0.5j for x in S]\n",
    "plot(S1)\n"
   ]
  },
  {
   "cell_type": "markdown",
   "metadata": {},
   "source": [
    "同1.4.9 畫出再位移上1右二"
   ]
  },
  {
   "cell_type": "code",
   "execution_count": 1,
   "metadata": {
    "collapsed": true
   },
   "outputs": [],
   "source": [
    "from plotting import plot\n",
    "S = {2 + 2j,3 + 2j,1.75 + 1j,2 + 1j,2.25 + 1j,2.5+1j,2.75+1j,3+1j,3.25+1j}\n",
    "S1 = [x*0.5j for x in S]\n",
    "S2 = [x+2-1j for x in S1]\n",
    "plot(S2)"
   ]
  },
  {
   "cell_type": "markdown",
   "metadata": {},
   "source": [
    "1.4.10"
   ]
  },
  {
   "cell_type": "code",
   "execution_count": 3,
   "metadata": {
    "collapsed": false
   },
   "outputs": [],
   "source": [
    "from image import file2image\n",
    "from image import image2display\n",
    "from plotting import plot\n",
    "img = file2image(\"img01.png\")\n",
    "#image2display(img)\n",
    "width = len(img[0])\n",
    "height = len(img)\n",
    "lt = []\n",
    "[[lt.append(x+(187*1j-y*1j)) for x in range(width) if sum(img[y][x])<360]for y in range(height)]\n",
    "plot(lt,188)"
   ]
  },
  {
   "cell_type": "markdown",
   "metadata": {},
   "source": [
    "1.4.11 "
   ]
  },
  {
   "cell_type": "code",
   "execution_count": 4,
   "metadata": {
    "collapsed": true
   },
   "outputs": [],
   "source": [
    "from plotting import plot\n",
    "def f(pt_c):\n",
    "    return pt_c.imag + pt_c.real*1j\n",
    "S = {2 + 2j,3 + 2j,1.75 + 1j,2 + 1j,2.25 + 1j,2.5+1j,2.75+1j,3+1j,3.25+1j}\n",
    "S1 = [f(x) for x in S]\n",
    "plot(S1)\n"
   ]
  },
  {
   "cell_type": "code",
   "execution_count": 5,
   "metadata": {
    "collapsed": true
   },
   "outputs": [],
   "source": [
    "from image import file2image\n",
    "from image import image2display\n",
    "from plotting import plot\n",
    "img = file2image(\"img01.png\")\n",
    "#image2display(img)\n",
    "width = len(img[0])\n",
    "height = len(img)\n",
    "lt = []\n",
    "[[lt.append(x+(187*1j-y*1j)) for x in range(width) if sum(img[y][x])<360]for y in range(height)]\n",
    "def f(pt_c):\n",
    "    return pt_c.imag + pt_c.real*1j\n",
    "lt1  = [f(x) for x in lt]\n",
    "plot(lt1,188)"
   ]
  },
  {
   "cell_type": "code",
   "execution_count": 10,
   "metadata": {
    "collapsed": false
   },
   "outputs": [],
   "source": [
    "#Euler's formular?\n",
    "#1.4.17\n",
    "from math import pi, e\n",
    "from plotting import plot\n",
    "n = 20\n",
    "pts = [e**(x*2*pi*1j/n) for x in range(n)]\n",
    "plot(pts)"
   ]
  },
  {
   "cell_type": "code",
   "execution_count": 11,
   "metadata": {
    "collapsed": true
   },
   "outputs": [],
   "source": [
    "#1.4.18\n",
    "from plotting import plot\n",
    "from math import pi, e\n",
    "def f(pt_c):\n",
    "    return pt_c*e**(pi/4*1j)\n",
    "S = {2 + 2j,3 + 2j,1.75 + 1j,2 + 1j,2.25 + 1j,2.5+1j,2.75+1j,3+1j,3.25+1j}\n",
    "S1 = [f(x) for x in S]\n",
    "plot(S1)"
   ]
  },
  {
   "cell_type": "code",
   "execution_count": 15,
   "metadata": {
    "collapsed": true
   },
   "outputs": [],
   "source": [
    "from image import file2image\n",
    "from image import image2display\n",
    "from plotting import plot\n",
    "from math import pi, e\n",
    "img = file2image(\"img01.png\")\n",
    "#image2display(img)\n",
    "width = len(img[0])\n",
    "height = len(img)\n",
    "lt = []\n",
    "[[lt.append(x+(187*1j-y*1j)) for x in range(width) if sum(img[y][x])<360]for y in range(height)]\n",
    "def f(pt_c):\n",
    "    return pt_c*e**(pi/4*1j)\n",
    "lt1  = [f(x) for x in lt]\n",
    "plot(lt1,188)"
   ]
  },
  {
   "cell_type": "code",
   "execution_count": 19,
   "metadata": {
    "collapsed": false
   },
   "outputs": [],
   "source": [
    "#1.4.20\n",
    "from image import file2image\n",
    "from image import image2display\n",
    "from plotting import plot\n",
    "from math import pi, e\n",
    "img = file2image(\"img01.png\")\n",
    "#image2display(img)\n",
    "width = len(img[0])\n",
    "height = len(img)\n",
    "lt = []\n",
    "[[lt.append((x+(187*1j-y*1j))) for x in range(width) if sum(img[y][x])<360]for y in range(height)]\n",
    "def f(pt_c):\n",
    "    return pt_c*e**(pi/4*1j)-99*1j\n",
    "lt1  = [f(x) for x in lt]\n",
    "plot(lt1,188)"
   ]
  },
  {
   "cell_type": "markdown",
   "metadata": {},
   "source": [
    "The text about GF(2) is not so clear, so I need to check it out later."
   ]
  },
  {
   "cell_type": "markdown",
   "metadata": {},
   "source": [
    "# Ref\n",
    "[Where to download the source code of thext book](http://resources.codingthematrix.com/)"
   ]
  },
  {
   "cell_type": "code",
   "execution_count": null,
   "metadata": {
    "collapsed": true
   },
   "outputs": [],
   "source": []
  }
 ],
 "metadata": {
  "kernelspec": {
   "display_name": "Python 2",
   "language": "python",
   "name": "python2"
  },
  "language_info": {
   "codemirror_mode": {
    "name": "ipython",
    "version": 2
   },
   "file_extension": ".py",
   "mimetype": "text/x-python",
   "name": "python",
   "nbconvert_exporter": "python",
   "pygments_lexer": "ipython2",
   "version": "2.7.11"
  }
 },
 "nbformat": 4,
 "nbformat_minor": 0
}
