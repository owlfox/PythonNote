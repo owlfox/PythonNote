{
 "cells": [
  {
   "cell_type": "markdown",
   "metadata": {},
   "source": [
    "# Thinkstat 筆記 Chapter1\n",
    "在學習python的過程中意外發現[thinkstat](http://greenteapress.com/thinkstats/)，剛好是我對其很好奇的喔林學院的Allen B. Downey教授寫的書，頁數少的書感覺真是棒透了，讓我們開始吧！\n",
    "\n",
    "# Statistical thinking for programmers 統計思維for 程序猿\n",
    "基本上本章很簡單，依範例做就好了，首先我們要把範例程式碼、分析用資料放到同個資料夾。\n",
    "我們要探討的問題是：“第一胎是不是會比較早生”\n",
    "教授幫我們把很多需要用到的module包裝好了，下面的程式碼用來確認我們是不是有相同的資料："
   ]
  },
  {
   "cell_type": "markdown",
   "metadata": {
    "collapsed": false
   },
   "source": [
    "import survey\n",
    "\n",
    "table = survey.Pregnancies()\n",
    "table.ReadRecords()\n",
    "print 'Number of pregnancies', len(table.records)\n"
   ]
  },
  {
   "cell_type": "markdown",
   "metadata": {},
   "source": [
    "## 參考資料\n",
    "1. [課程網頁](https://sites.google.com/site/datascience14/)\n",
    "2. [書本網頁](http://greenteapress.com/thinkstats/)"
   ]
  }
 ],
 "metadata": {
  "kernelspec": {
   "display_name": "Python 2",
   "language": "python",
   "name": "python2"
  },
  "language_info": {
   "codemirror_mode": {
    "name": "ipython",
    "version": 2
   },
   "file_extension": ".py",
   "mimetype": "text/x-python",
   "name": "python",
   "nbconvert_exporter": "python",
   "pygments_lexer": "ipython2",
   "version": "2.7.10"
  }
 },
 "nbformat": 4,
 "nbformat_minor": 0
}
